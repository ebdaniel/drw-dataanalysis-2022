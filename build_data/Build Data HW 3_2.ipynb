{
 "cells": [
  {
   "cell_type": "code",
   "execution_count": 2,
   "id": "e0a06d85",
   "metadata": {},
   "outputs": [],
   "source": [
    "import pandas as pd\n",
    "import numpy as np\n",
    "\n",
    "import yfinance as yf\n",
    "import pandas_datareader as pdr"
   ]
  },
  {
   "cell_type": "code",
   "execution_count": 3,
   "id": "75661751",
   "metadata": {},
   "outputs": [],
   "source": [
    "STARTDATE = '1959-01-01'\n",
    "ENDDATE = '2022-05-31'\n",
    "\n",
    "startdate = pd.to_datetime(STARTDATE)\n",
    "enddate = pd.to_datetime(ENDDATE)\n",
    "\n",
    "ticks = ['CPIAUCSL','M2SL']\n",
    "labels = ['CPI','M2']\n",
    "\n",
    "rawdata = pdr.DataReader(ticks,'fred',startdate,enddate)\n",
    "rawdata.index.name = 'date'\n",
    "rawdata.index = pd.to_datetime(rawdata.index)\n",
    "rawdata.columns = labels"
   ]
  },
  {
   "cell_type": "code",
   "execution_count": 4,
   "id": "ff188932",
   "metadata": {},
   "outputs": [],
   "source": [
    "FREQ = 12\n",
    "\n",
    "if FREQ == 4:\n",
    "    FREQcode = 'Q'\n",
    "elif FREQ == 1:\n",
    "    FREQcode = 'Y'\n",
    "elif FREQ==12:\n",
    "    FREQcode = 'M'\n",
    "\n",
    "macro = rawdata.resample(FREQcode).agg('last')\n",
    "macro.dropna(inplace=True)"
   ]
  },
  {
   "cell_type": "code",
   "execution_count": 5,
   "id": "64cd7392",
   "metadata": {},
   "outputs": [
    {
     "name": "stdout",
     "output_type": "stream",
     "text": [
      "[*********************100%***********************]  1 of 1 completed\n"
     ]
    }
   ],
   "source": [
    "tickers = ['SPY']\n",
    "\n",
    "START = \"1990-01-01\"\n",
    "END = \"2022-05-31\"\n",
    "\n",
    "data = yf.download(tickers, start=START, end=END)['Adj Close']\n",
    "data = data.resample('M').agg('last')\n",
    "data.name = 'SPY'\n",
    "\n",
    "spy = data.pct_change().dropna()"
   ]
  },
  {
   "cell_type": "code",
   "execution_count": 11,
   "id": "d722dec4",
   "metadata": {},
   "outputs": [
    {
     "data": {
      "text/html": [
       "<div>\n",
       "<style scoped>\n",
       "    .dataframe tbody tr th:only-of-type {\n",
       "        vertical-align: middle;\n",
       "    }\n",
       "\n",
       "    .dataframe tbody tr th {\n",
       "        vertical-align: top;\n",
       "    }\n",
       "\n",
       "    .dataframe thead th {\n",
       "        text-align: right;\n",
       "    }\n",
       "</style>\n",
       "<table border=\"1\" class=\"dataframe\">\n",
       "  <thead>\n",
       "    <tr style=\"text-align: right;\">\n",
       "      <th></th>\n",
       "      <th>CPI</th>\n",
       "      <th>M2</th>\n",
       "    </tr>\n",
       "    <tr>\n",
       "      <th>date</th>\n",
       "      <th></th>\n",
       "      <th></th>\n",
       "    </tr>\n",
       "  </thead>\n",
       "  <tbody>\n",
       "    <tr>\n",
       "      <th>1959-01-31</th>\n",
       "      <td>29.01</td>\n",
       "      <td>286.6</td>\n",
       "    </tr>\n",
       "    <tr>\n",
       "      <th>1959-02-28</th>\n",
       "      <td>29.00</td>\n",
       "      <td>287.7</td>\n",
       "    </tr>\n",
       "    <tr>\n",
       "      <th>1959-03-31</th>\n",
       "      <td>28.97</td>\n",
       "      <td>289.2</td>\n",
       "    </tr>\n",
       "    <tr>\n",
       "      <th>1959-04-30</th>\n",
       "      <td>28.98</td>\n",
       "      <td>290.1</td>\n",
       "    </tr>\n",
       "    <tr>\n",
       "      <th>1959-05-31</th>\n",
       "      <td>29.04</td>\n",
       "      <td>292.2</td>\n",
       "    </tr>\n",
       "  </tbody>\n",
       "</table>\n",
       "</div>"
      ],
      "text/plain": [
       "              CPI     M2\n",
       "date                    \n",
       "1959-01-31  29.01  286.6\n",
       "1959-02-28  29.00  287.7\n",
       "1959-03-31  28.97  289.2\n",
       "1959-04-30  28.98  290.1\n",
       "1959-05-31  29.04  292.2"
      ]
     },
     "execution_count": 11,
     "metadata": {},
     "output_type": "execute_result"
    }
   ],
   "source": [
    "macro.head()"
   ]
  },
  {
   "cell_type": "code",
   "execution_count": 8,
   "id": "88af539a",
   "metadata": {},
   "outputs": [
    {
     "data": {
      "text/html": [
       "<div>\n",
       "<style scoped>\n",
       "    .dataframe tbody tr th:only-of-type {\n",
       "        vertical-align: middle;\n",
       "    }\n",
       "\n",
       "    .dataframe tbody tr th {\n",
       "        vertical-align: top;\n",
       "    }\n",
       "\n",
       "    .dataframe thead th {\n",
       "        text-align: right;\n",
       "    }\n",
       "</style>\n",
       "<table border=\"1\" class=\"dataframe\">\n",
       "  <thead>\n",
       "    <tr style=\"text-align: right;\">\n",
       "      <th></th>\n",
       "      <th>CPI</th>\n",
       "      <th>M2</th>\n",
       "    </tr>\n",
       "    <tr>\n",
       "      <th>date</th>\n",
       "      <th></th>\n",
       "      <th></th>\n",
       "    </tr>\n",
       "  </thead>\n",
       "  <tbody>\n",
       "    <tr>\n",
       "      <th>2021-12-31</th>\n",
       "      <td>280.126</td>\n",
       "      <td>21483.2</td>\n",
       "    </tr>\n",
       "    <tr>\n",
       "      <th>2022-01-31</th>\n",
       "      <td>281.933</td>\n",
       "      <td>21659.2</td>\n",
       "    </tr>\n",
       "    <tr>\n",
       "      <th>2022-02-28</th>\n",
       "      <td>284.182</td>\n",
       "      <td>21750.3</td>\n",
       "    </tr>\n",
       "    <tr>\n",
       "      <th>2022-03-31</th>\n",
       "      <td>287.708</td>\n",
       "      <td>21809.2</td>\n",
       "    </tr>\n",
       "    <tr>\n",
       "      <th>2022-04-30</th>\n",
       "      <td>288.663</td>\n",
       "      <td>21728.0</td>\n",
       "    </tr>\n",
       "  </tbody>\n",
       "</table>\n",
       "</div>"
      ],
      "text/plain": [
       "                CPI       M2\n",
       "date                        \n",
       "2021-12-31  280.126  21483.2\n",
       "2022-01-31  281.933  21659.2\n",
       "2022-02-28  284.182  21750.3\n",
       "2022-03-31  287.708  21809.2\n",
       "2022-04-30  288.663  21728.0"
      ]
     },
     "execution_count": 8,
     "metadata": {},
     "output_type": "execute_result"
    }
   ],
   "source": [
    "macro.tail()"
   ]
  },
  {
   "cell_type": "code",
   "execution_count": 9,
   "id": "be7051da",
   "metadata": {},
   "outputs": [
    {
     "data": {
      "text/plain": [
       "Date\n",
       "1993-02-28    0.010668\n",
       "1993-03-31    0.022399\n",
       "1993-04-30   -0.025588\n",
       "1993-05-31    0.026969\n",
       "1993-06-30    0.003608\n",
       "Freq: M, Name: SPY, dtype: float64"
      ]
     },
     "execution_count": 9,
     "metadata": {},
     "output_type": "execute_result"
    }
   ],
   "source": [
    "spy.head()"
   ]
  },
  {
   "cell_type": "code",
   "execution_count": 10,
   "id": "9caf8cc4",
   "metadata": {},
   "outputs": [
    {
     "data": {
      "text/plain": [
       "Date\n",
       "2022-01-31   -0.052741\n",
       "2022-02-28   -0.029517\n",
       "2022-03-31    0.037590\n",
       "2022-04-30   -0.087769\n",
       "2022-05-31    0.007913\n",
       "Freq: M, Name: SPY, dtype: float64"
      ]
     },
     "execution_count": 10,
     "metadata": {},
     "output_type": "execute_result"
    }
   ],
   "source": [
    "spy.tail()"
   ]
  },
  {
   "cell_type": "code",
   "execution_count": 13,
   "id": "260b3095",
   "metadata": {},
   "outputs": [],
   "source": [
    "with pd.ExcelWriter('../data/hw_3_2_data.xlsx') as writer:  \n",
    "    macro.to_excel(writer, sheet_name='macro')\n",
    "    spy.to_excel(writer, sheet_name='s&p500')"
   ]
  },
  {
   "cell_type": "code",
   "execution_count": null,
   "id": "9ad7013a",
   "metadata": {},
   "outputs": [],
   "source": []
  }
 ],
 "metadata": {
  "hide_input": false,
  "interpreter": {
   "hash": "4af04a0c468ff35cfa212b6121c4a431ae394e3bfe0b5654a8163a5901b2a15f"
  },
  "kernelspec": {
   "display_name": "Python 3.9.12 ('misc')",
   "language": "python",
   "name": "python3"
  },
  "language_info": {
   "codemirror_mode": {
    "name": "ipython",
    "version": 3
   },
   "file_extension": ".py",
   "mimetype": "text/x-python",
   "name": "python",
   "nbconvert_exporter": "python",
   "pygments_lexer": "ipython3",
   "version": "3.9.12"
  }
 },
 "nbformat": 4,
 "nbformat_minor": 5
}
