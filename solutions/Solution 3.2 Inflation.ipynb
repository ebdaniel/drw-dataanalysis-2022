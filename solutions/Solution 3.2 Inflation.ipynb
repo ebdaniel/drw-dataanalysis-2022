{
 "cells": [
  {
   "cell_type": "code",
   "execution_count": 1,
   "id": "40388f82",
   "metadata": {},
   "outputs": [],
   "source": [
    "import pandas as pd\n",
    "import datetime\n",
    "\n",
    "import numpy as np\n",
    "import warnings\n",
    "\n",
    "from sklearn.linear_model import LinearRegression\n",
    "\n",
    "import statsmodels.api as sm\n",
    "\n",
    "import matplotlib.pyplot as plt\n",
    "%matplotlib inline\n",
    "plt.rcParams['figure.figsize'] = (12,6)\n",
    "plt.rcParams['font.size'] = 15\n",
    "plt.rcParams['legend.fontsize'] = 13\n",
    "\n",
    "from matplotlib.ticker import (MultipleLocator,\n",
    "                               StrMethodFormatter,\n",
    "                               AutoMinorLocator)"
   ]
  },
  {
   "cell_type": "code",
   "execution_count": 2,
   "id": "64cd7392",
   "metadata": {},
   "outputs": [],
   "source": [
    "data = pd.read_excel('../data/hw_3_2_data.xlsx',sheet_name='macro')\n",
    "prices = data['CPI']\n",
    "money = data['M2']\n",
    "\n",
    "FREQ = 12"
   ]
  },
  {
   "cell_type": "markdown",
   "id": "01c1a38a",
   "metadata": {},
   "source": [
    "# Contemporaneous Regressions"
   ]
  },
  {
   "cell_type": "code",
   "execution_count": 3,
   "id": "b6c33f32",
   "metadata": {},
   "outputs": [
    {
     "data": {
      "text/html": [
       "<table class=\"simpletable\">\n",
       "<caption>OLS Regression Results</caption>\n",
       "<tr>\n",
       "  <th>Dep. Variable:</th>        <td>inflation</td>    <th>  R-squared:         </th> <td>   0.008</td>\n",
       "</tr>\n",
       "<tr>\n",
       "  <th>Model:</th>                   <td>OLS</td>       <th>  Adj. R-squared:    </th> <td>   0.007</td>\n",
       "</tr>\n",
       "<tr>\n",
       "  <th>Method:</th>             <td>Least Squares</td>  <th>  F-statistic:       </th> <td>   6.370</td>\n",
       "</tr>\n",
       "<tr>\n",
       "  <th>Date:</th>             <td>Tue, 21 Jun 2022</td> <th>  Prob (F-statistic):</th>  <td>0.0118</td> \n",
       "</tr>\n",
       "<tr>\n",
       "  <th>Time:</th>                 <td>22:38:23</td>     <th>  Log-Likelihood:    </th> <td>  1610.0</td>\n",
       "</tr>\n",
       "<tr>\n",
       "  <th>No. Observations:</th>      <td>   748</td>      <th>  AIC:               </th> <td>  -3216.</td>\n",
       "</tr>\n",
       "<tr>\n",
       "  <th>Df Residuals:</th>          <td>   746</td>      <th>  BIC:               </th> <td>  -3207.</td>\n",
       "</tr>\n",
       "<tr>\n",
       "  <th>Df Model:</th>              <td>     1</td>      <th>                     </th>     <td> </td>   \n",
       "</tr>\n",
       "<tr>\n",
       "  <th>Covariance Type:</th>      <td>nonrobust</td>    <th>                     </th>     <td> </td>   \n",
       "</tr>\n",
       "</table>\n",
       "<table class=\"simpletable\">\n",
       "<tr>\n",
       "        <td></td>          <th>coef</th>     <th>std err</th>      <th>t</th>      <th>P>|t|</th>  <th>[0.025</th>    <th>0.975]</th>  \n",
       "</tr>\n",
       "<tr>\n",
       "  <th>const</th>        <td>    0.0320</td> <td>    0.002</td> <td>   13.839</td> <td> 0.000</td> <td>    0.027</td> <td>    0.037</td>\n",
       "</tr>\n",
       "<tr>\n",
       "  <th>money growth</th> <td>    0.0729</td> <td>    0.029</td> <td>    2.524</td> <td> 0.012</td> <td>    0.016</td> <td>    0.130</td>\n",
       "</tr>\n",
       "</table>\n",
       "<table class=\"simpletable\">\n",
       "<tr>\n",
       "  <th>Omnibus:</th>       <td>211.421</td> <th>  Durbin-Watson:     </th> <td>   0.020</td> \n",
       "</tr>\n",
       "<tr>\n",
       "  <th>Prob(Omnibus):</th> <td> 0.000</td>  <th>  Jarque-Bera (JB):  </th> <td> 484.782</td> \n",
       "</tr>\n",
       "<tr>\n",
       "  <th>Skew:</th>          <td> 1.517</td>  <th>  Prob(JB):          </th> <td>5.38e-106</td>\n",
       "</tr>\n",
       "<tr>\n",
       "  <th>Kurtosis:</th>      <td> 5.519</td>  <th>  Cond. No.          </th> <td>    28.2</td> \n",
       "</tr>\n",
       "</table><br/><br/>Notes:<br/>[1] Standard Errors assume that the covariance matrix of the errors is correctly specified."
      ],
      "text/plain": [
       "<class 'statsmodels.iolib.summary.Summary'>\n",
       "\"\"\"\n",
       "                            OLS Regression Results                            \n",
       "==============================================================================\n",
       "Dep. Variable:              inflation   R-squared:                       0.008\n",
       "Model:                            OLS   Adj. R-squared:                  0.007\n",
       "Method:                 Least Squares   F-statistic:                     6.370\n",
       "Date:                Tue, 21 Jun 2022   Prob (F-statistic):             0.0118\n",
       "Time:                        22:38:23   Log-Likelihood:                 1610.0\n",
       "No. Observations:                 748   AIC:                            -3216.\n",
       "Df Residuals:                     746   BIC:                            -3207.\n",
       "Df Model:                           1                                         \n",
       "Covariance Type:            nonrobust                                         \n",
       "================================================================================\n",
       "                   coef    std err          t      P>|t|      [0.025      0.975]\n",
       "--------------------------------------------------------------------------------\n",
       "const            0.0320      0.002     13.839      0.000       0.027       0.037\n",
       "money growth     0.0729      0.029      2.524      0.012       0.016       0.130\n",
       "==============================================================================\n",
       "Omnibus:                      211.421   Durbin-Watson:                   0.020\n",
       "Prob(Omnibus):                  0.000   Jarque-Bera (JB):              484.782\n",
       "Skew:                           1.517   Prob(JB):                    5.38e-106\n",
       "Kurtosis:                       5.519   Cond. No.                         28.2\n",
       "==============================================================================\n",
       "\n",
       "Notes:\n",
       "[1] Standard Errors assume that the covariance matrix of the errors is correctly specified.\n",
       "\"\"\""
      ]
     },
     "execution_count": 3,
     "metadata": {},
     "output_type": "execute_result"
    }
   ],
   "source": [
    "HORZ = FREQ\n",
    "\n",
    "inflation = (prices / prices.shift(HORZ) -1).dropna()\n",
    "money_growth = (money/money.shift(HORZ) - 1).dropna()\n",
    "#money_growth = data.loc[money_growth.index,'Fed']\n",
    "\n",
    "inflation.name = 'inflation'\n",
    "money_growth.name = 'money growth'\n",
    "\n",
    "X = money_growth\n",
    "y = inflation\n",
    "\n",
    "results = sm.OLS(y,sm.add_constant(X)).fit()\n",
    "results.summary()"
   ]
  },
  {
   "cell_type": "markdown",
   "id": "398897db",
   "metadata": {},
   "source": [
    "# Lagged (Forecasting) Regressions"
   ]
  },
  {
   "cell_type": "markdown",
   "id": "447beec8",
   "metadata": {},
   "source": [
    "## Price Index\n",
    "\n",
    "Regression result is amazing R-squared.\n",
    "\n",
    "But is this regression valid?"
   ]
  },
  {
   "cell_type": "code",
   "execution_count": 4,
   "id": "d69f54d8",
   "metadata": {
    "scrolled": false
   },
   "outputs": [
    {
     "data": {
      "image/png": "[encoded data removed]",
      "text/plain": [
       "<Figure size 864x432 with 2 Axes>"
      ]
     },
     "metadata": {
      "needs_background": "light"
     },
     "output_type": "display_data"
    }
   ],
   "source": [
    "ax = data[['CPI']].plot(color='b',linewidth=3,ylabel='CPI',legend=['CPI'])\n",
    "ax2 = plt.twinx(ax)\n",
    "data[['M2']].plot(ax=ax2,color='r',linewidth=3,ylabel='M2',legend=['M2'])\n",
    "plt.legend(loc='upper center')\n",
    "plt.show()"
   ]
  },
  {
   "cell_type": "code",
   "execution_count": 5,
   "id": "e7318bba",
   "metadata": {},
   "outputs": [],
   "source": [
    "def set_autoregressor(df,LAG):\n",
    "    \n",
    "    X = df.shift(LAG).dropna()\n",
    "    y = df\n",
    "\n",
    "    X,y = X.align(y,join='inner')\n",
    "    X = X.values.reshape(-1,1)\n",
    "    y = y.values.reshape(-1,1)\n",
    "\n",
    "    return X,y"
   ]
  },
  {
   "cell_type": "code",
   "execution_count": 6,
   "id": "f7f2d40a",
   "metadata": {
    "scrolled": false
   },
   "outputs": [
    {
     "data": {
      "text/html": [
       "<table class=\"simpletable\">\n",
       "<caption>OLS Regression Results</caption>\n",
       "<tr>\n",
       "  <th>Dep. Variable:</th>            <td>y</td>        <th>  R-squared:         </th> <td>   0.999</td> \n",
       "</tr>\n",
       "<tr>\n",
       "  <th>Model:</th>                   <td>OLS</td>       <th>  Adj. R-squared:    </th> <td>   0.999</td> \n",
       "</tr>\n",
       "<tr>\n",
       "  <th>Method:</th>             <td>Least Squares</td>  <th>  F-statistic:       </th> <td>5.960e+05</td>\n",
       "</tr>\n",
       "<tr>\n",
       "  <th>Date:</th>             <td>Tue, 21 Jun 2022</td> <th>  Prob (F-statistic):</th>  <td>  0.00</td>  \n",
       "</tr>\n",
       "<tr>\n",
       "  <th>Time:</th>                 <td>22:38:45</td>     <th>  Log-Likelihood:    </th> <td> -1814.0</td> \n",
       "</tr>\n",
       "<tr>\n",
       "  <th>No. Observations:</th>      <td>   748</td>      <th>  AIC:               </th> <td>   3632.</td> \n",
       "</tr>\n",
       "<tr>\n",
       "  <th>Df Residuals:</th>          <td>   746</td>      <th>  BIC:               </th> <td>   3641.</td> \n",
       "</tr>\n",
       "<tr>\n",
       "  <th>Df Model:</th>              <td>     1</td>      <th>                     </th>     <td> </td>    \n",
       "</tr>\n",
       "<tr>\n",
       "  <th>Covariance Type:</th>      <td>nonrobust</td>    <th>                     </th>     <td> </td>    \n",
       "</tr>\n",
       "</table>\n",
       "<table class=\"simpletable\">\n",
       "<tr>\n",
       "    <td></td>       <th>coef</th>     <th>std err</th>      <th>t</th>      <th>P>|t|</th>  <th>[0.025</th>    <th>0.975]</th>  \n",
       "</tr>\n",
       "<tr>\n",
       "  <th>const</th> <td>    2.1157</td> <td>    0.197</td> <td>   10.714</td> <td> 0.000</td> <td>    1.728</td> <td>    2.503</td>\n",
       "</tr>\n",
       "<tr>\n",
       "  <th>x1</th>    <td>    1.0145</td> <td>    0.001</td> <td>  771.992</td> <td> 0.000</td> <td>    1.012</td> <td>    1.017</td>\n",
       "</tr>\n",
       "</table>\n",
       "<table class=\"simpletable\">\n",
       "<tr>\n",
       "  <th>Omnibus:</th>       <td>264.441</td> <th>  Durbin-Watson:     </th> <td>   0.053</td>\n",
       "</tr>\n",
       "<tr>\n",
       "  <th>Prob(Omnibus):</th> <td> 0.000</td>  <th>  Jarque-Bera (JB):  </th> <td>1607.849</td>\n",
       "</tr>\n",
       "<tr>\n",
       "  <th>Skew:</th>          <td> 1.460</td>  <th>  Prob(JB):          </th> <td>    0.00</td>\n",
       "</tr>\n",
       "<tr>\n",
       "  <th>Kurtosis:</th>      <td> 9.562</td>  <th>  Cond. No.          </th> <td>    296.</td>\n",
       "</tr>\n",
       "</table><br/><br/>Notes:<br/>[1] Standard Errors assume that the covariance matrix of the errors is correctly specified."
      ],
      "text/plain": [
       "<class 'statsmodels.iolib.summary.Summary'>\n",
       "\"\"\"\n",
       "                            OLS Regression Results                            \n",
       "==============================================================================\n",
       "Dep. Variable:                      y   R-squared:                       0.999\n",
       "Model:                            OLS   Adj. R-squared:                  0.999\n",
       "Method:                 Least Squares   F-statistic:                 5.960e+05\n",
       "Date:                Tue, 21 Jun 2022   Prob (F-statistic):               0.00\n",
       "Time:                        22:38:45   Log-Likelihood:                -1814.0\n",
       "No. Observations:                 748   AIC:                             3632.\n",
       "Df Residuals:                     746   BIC:                             3641.\n",
       "Df Model:                           1                                         \n",
       "Covariance Type:            nonrobust                                         \n",
       "==============================================================================\n",
       "                 coef    std err          t      P>|t|      [0.025      0.975]\n",
       "------------------------------------------------------------------------------\n",
       "const          2.1157      0.197     10.714      0.000       1.728       2.503\n",
       "x1             1.0145      0.001    771.992      0.000       1.012       1.017\n",
       "==============================================================================\n",
       "Omnibus:                      264.441   Durbin-Watson:                   0.053\n",
       "Prob(Omnibus):                  0.000   Jarque-Bera (JB):             1607.849\n",
       "Skew:                           1.460   Prob(JB):                         0.00\n",
       "Kurtosis:                       9.562   Cond. No.                         296.\n",
       "==============================================================================\n",
       "\n",
       "Notes:\n",
       "[1] Standard Errors assume that the covariance matrix of the errors is correctly specified.\n",
       "\"\"\""
      ]
     },
     "execution_count": 6,
     "metadata": {},
     "output_type": "execute_result"
    }
   ],
   "source": [
    "LAG = FREQ\n",
    "\n",
    "X,y = set_autoregressor(prices,LAG)\n",
    "mod = LinearRegression().fit(X,y)\n",
    "mod.score(X,y)\n",
    "\n",
    "results = sm.OLS(y,sm.add_constant(X)).fit()\n",
    "results.summary()"
   ]
  },
  {
   "cell_type": "markdown",
   "id": "a99f483b",
   "metadata": {},
   "source": [
    "## Stationary Transformation: Growth Rates\n",
    "\n",
    "* Price Index to Inflation \n",
    "* Money to Money Growth"
   ]
  },
  {
   "cell_type": "code",
   "execution_count": 7,
   "id": "e8bc4081",
   "metadata": {},
   "outputs": [],
   "source": [
    "horizons = FREQ * np.array([1,2,3])\n",
    "if 1 not in horizons:\n",
    "    horizons = np.insert(horizons,0,1)\n",
    "\n",
    "r2 = pd.DataFrame(index=pd.Index(horizons,name='horizon (months)'),columns=['inflation','money growth','both'],dtype=float)\n",
    "betas_uni = r2[['inflation','money growth']].copy()\n",
    "betas_multi = betas_uni.copy()\n",
    "\n",
    "for LAG in horizons:\n",
    "\n",
    "    inflation = (prices / prices.shift(LAG) -1).dropna()\n",
    "    money_growth = (money/money.shift(LAG) - 1).dropna()\n",
    "#    money_growth = data.loc[money_growth.index,'Fed']\n",
    "    inflation.name = 'inflation'\n",
    "    money_growth.name = 'money growth'\n",
    "    \n",
    "    Xi,y = set_autoregressor(inflation,LAG)\n",
    "    mod = LinearRegression().fit(Xi,y)    \n",
    "    lab = r2.columns[0]\n",
    "    r2.loc[LAG,lab] = mod.score(Xi,y)\n",
    "    betas_uni.loc[LAG,lab] = mod.coef_\n",
    "    \n",
    "    Xm,y = set_autoregressor(money_growth,LAG)\n",
    "    mod = LinearRegression().fit(Xm,y)\n",
    "    lab = r2.columns[1]\n",
    "    r2.loc[LAG,lab] = mod.score(Xm,y)\n",
    "    betas_uni.loc[LAG,lab] = mod.coef_\n",
    "        \n",
    "    X = pd.DataFrame(index=inflation.index[LAG:],data=np.concatenate((Xi,Xm),axis=1),columns=['inflation','money growth'])\n",
    "    y,X = inflation.align(X,join='inner')\n",
    "    mod = LinearRegression().fit(X,y)\n",
    "    lab = r2.columns[2]\n",
    "    r2.loc[LAG,lab] = mod.score(X,y)\n",
    "    betas_multi.loc[LAG,:] = mod.coef_"
   ]
  },
  {
   "cell_type": "code",
   "execution_count": 8,
   "id": "f127e0e5",
   "metadata": {},
   "outputs": [
    {
     "data": {
      "text/html": [
       "<style  type=\"text/css\" >\n",
       "</style><table id=\"T_7c7f1_\" ><caption>betas</caption><thead>    <tr>        <th class=\"blank level0\" ></th>        <th class=\"col_heading level0 col0\" colspan=\"2\">univariate</th>        <th class=\"col_heading level0 col2\" colspan=\"2\">multivariate</th>    </tr>    <tr>        <th class=\"blank level1\" ></th>        <th class=\"col_heading level1 col0\" >inflation</th>        <th class=\"col_heading level1 col1\" >money growth</th>        <th class=\"col_heading level1 col2\" >inflation</th>        <th class=\"col_heading level1 col3\" >money growth</th>    </tr>    <tr>        <th class=\"index_name level0\" >horizon (months)</th>        <th class=\"blank\" ></th>        <th class=\"blank\" ></th>        <th class=\"blank\" ></th>        <th class=\"blank\" ></th>    </tr></thead><tbody>\n",
       "                <tr>\n",
       "                        <th id=\"T_7c7f1_level0_row0\" class=\"row_heading level0 row0\" >1</th>\n",
       "                        <td id=\"T_7c7f1_row0_col0\" class=\"data row0 col0\" >63.1%</td>\n",
       "                        <td id=\"T_7c7f1_row0_col1\" class=\"data row0 col1\" >63.6%</td>\n",
       "                        <td id=\"T_7c7f1_row0_col2\" class=\"data row0 col2\" >63.5%</td>\n",
       "                        <td id=\"T_7c7f1_row0_col3\" class=\"data row0 col3\" >3.5%</td>\n",
       "            </tr>\n",
       "            <tr>\n",
       "                        <th id=\"T_7c7f1_level0_row1\" class=\"row_heading level0 row1\" >12</th>\n",
       "                        <td id=\"T_7c7f1_row1_col0\" class=\"data row1 col0\" >74.9%</td>\n",
       "                        <td id=\"T_7c7f1_row1_col1\" class=\"data row1 col1\" >42.3%</td>\n",
       "                        <td id=\"T_7c7f1_row1_col2\" class=\"data row1 col2\" >73.1%</td>\n",
       "                        <td id=\"T_7c7f1_row1_col3\" class=\"data row1 col3\" >19.4%</td>\n",
       "            </tr>\n",
       "            <tr>\n",
       "                        <th id=\"T_7c7f1_level0_row2\" class=\"row_heading level0 row2\" >24</th>\n",
       "                        <td id=\"T_7c7f1_row2_col0\" class=\"data row2 col0\" >63.1%</td>\n",
       "                        <td id=\"T_7c7f1_row2_col1\" class=\"data row2 col1\" >32.9%</td>\n",
       "                        <td id=\"T_7c7f1_row2_col2\" class=\"data row2 col2\" >52.5%</td>\n",
       "                        <td id=\"T_7c7f1_row2_col3\" class=\"data row2 col3\" >38.4%</td>\n",
       "            </tr>\n",
       "            <tr>\n",
       "                        <th id=\"T_7c7f1_level0_row3\" class=\"row_heading level0 row3\" >36</th>\n",
       "                        <td id=\"T_7c7f1_row3_col0\" class=\"data row3 col0\" >59.5%</td>\n",
       "                        <td id=\"T_7c7f1_row3_col1\" class=\"data row3 col1\" >47.5%</td>\n",
       "                        <td id=\"T_7c7f1_row3_col2\" class=\"data row3 col2\" >40.8%</td>\n",
       "                        <td id=\"T_7c7f1_row3_col3\" class=\"data row3 col3\" >50.4%</td>\n",
       "            </tr>\n",
       "    </tbody></table>"
      ],
      "text/plain": [
       "<pandas.io.formats.style.Styler at 0x1240d8700>"
      ]
     },
     "metadata": {},
     "output_type": "display_data"
    },
    {
     "data": {
      "text/html": [
       "<style  type=\"text/css\" >\n",
       "</style><table id=\"T_df41c_\" ><caption>r-squared</caption><thead>    <tr>        <th class=\"blank level0\" ></th>        <th class=\"col_heading level0 col0\" >inflation</th>        <th class=\"col_heading level0 col1\" >money growth</th>        <th class=\"col_heading level0 col2\" >both</th>    </tr>    <tr>        <th class=\"index_name level0\" >horizon (months)</th>        <th class=\"blank\" ></th>        <th class=\"blank\" ></th>        <th class=\"blank\" ></th>    </tr></thead><tbody>\n",
       "                <tr>\n",
       "                        <th id=\"T_df41c_level0_row0\" class=\"row_heading level0 row0\" >1</th>\n",
       "                        <td id=\"T_df41c_row0_col0\" class=\"data row0 col0\" >39.9%</td>\n",
       "                        <td id=\"T_df41c_row0_col1\" class=\"data row0 col1\" >40.2%</td>\n",
       "                        <td id=\"T_df41c_row0_col2\" class=\"data row0 col2\" >40.1%</td>\n",
       "            </tr>\n",
       "            <tr>\n",
       "                        <th id=\"T_df41c_level0_row1\" class=\"row_heading level0 row1\" >12</th>\n",
       "                        <td id=\"T_df41c_row1_col0\" class=\"data row1 col0\" >55.5%</td>\n",
       "                        <td id=\"T_df41c_row1_col1\" class=\"data row1 col1\" >17.6%</td>\n",
       "                        <td id=\"T_df41c_row1_col2\" class=\"data row1 col2\" >61.4%</td>\n",
       "            </tr>\n",
       "            <tr>\n",
       "                        <th id=\"T_df41c_level0_row2\" class=\"row_heading level0 row2\" >24</th>\n",
       "                        <td id=\"T_df41c_row2_col0\" class=\"data row2 col0\" >40.5%</td>\n",
       "                        <td id=\"T_df41c_row2_col1\" class=\"data row2 col1\" >7.0%</td>\n",
       "                        <td id=\"T_df41c_row2_col2\" class=\"data row2 col2\" >52.3%</td>\n",
       "            </tr>\n",
       "            <tr>\n",
       "                        <th id=\"T_df41c_level0_row3\" class=\"row_heading level0 row3\" >36</th>\n",
       "                        <td id=\"T_df41c_row3_col0\" class=\"data row3 col0\" >36.6%</td>\n",
       "                        <td id=\"T_df41c_row3_col1\" class=\"data row3 col1\" >17.7%</td>\n",
       "                        <td id=\"T_df41c_row3_col2\" class=\"data row3 col2\" >54.0%</td>\n",
       "            </tr>\n",
       "    </tbody></table>"
      ],
      "text/plain": [
       "<pandas.io.formats.style.Styler at 0x1240d81c0>"
      ]
     },
     "metadata": {},
     "output_type": "display_data"
    }
   ],
   "source": [
    "display(pd.concat([betas_uni,betas_multi],axis=1,keys=['univariate','multivariate']).style.set_caption('betas').format('{:.1%}'))\n",
    "display(r2.style.set_caption('r-squared').format('{:.1%}'))"
   ]
  },
  {
   "cell_type": "code",
   "execution_count": 9,
   "id": "07d4477d",
   "metadata": {},
   "outputs": [
    {
     "data": {
      "text/html": [
       "<table class=\"simpletable\">\n",
       "<caption>OLS Regression Results</caption>\n",
       "<tr>\n",
       "  <th>Dep. Variable:</th>        <td>inflation</td>    <th>  R-squared:         </th> <td>   0.540</td> \n",
       "</tr>\n",
       "<tr>\n",
       "  <th>Model:</th>                   <td>OLS</td>       <th>  Adj. R-squared:    </th> <td>   0.539</td> \n",
       "</tr>\n",
       "<tr>\n",
       "  <th>Method:</th>             <td>Least Squares</td>  <th>  F-statistic:       </th> <td>   402.2</td> \n",
       "</tr>\n",
       "<tr>\n",
       "  <th>Date:</th>             <td>Tue, 21 Jun 2022</td> <th>  Prob (F-statistic):</th> <td>2.92e-116</td>\n",
       "</tr>\n",
       "<tr>\n",
       "  <th>Time:</th>                 <td>22:39:10</td>     <th>  Log-Likelihood:    </th> <td>  997.05</td> \n",
       "</tr>\n",
       "<tr>\n",
       "  <th>No. Observations:</th>      <td>   688</td>      <th>  AIC:               </th> <td>  -1988.</td> \n",
       "</tr>\n",
       "<tr>\n",
       "  <th>Df Residuals:</th>          <td>   685</td>      <th>  BIC:               </th> <td>  -1975.</td> \n",
       "</tr>\n",
       "<tr>\n",
       "  <th>Df Model:</th>              <td>     2</td>      <th>                     </th>     <td> </td>    \n",
       "</tr>\n",
       "<tr>\n",
       "  <th>Covariance Type:</th>      <td>nonrobust</td>    <th>                     </th>     <td> </td>    \n",
       "</tr>\n",
       "</table>\n",
       "<table class=\"simpletable\">\n",
       "<tr>\n",
       "        <td></td>          <th>coef</th>     <th>std err</th>      <th>t</th>      <th>P>|t|</th>  <th>[0.025</th>    <th>0.975]</th>  \n",
       "</tr>\n",
       "<tr>\n",
       "  <th>const</th>        <td>   -0.0389</td> <td>    0.007</td> <td>   -5.791</td> <td> 0.000</td> <td>   -0.052</td> <td>   -0.026</td>\n",
       "</tr>\n",
       "<tr>\n",
       "  <th>inflation</th>    <td>    0.4079</td> <td>    0.028</td> <td>   14.555</td> <td> 0.000</td> <td>    0.353</td> <td>    0.463</td>\n",
       "</tr>\n",
       "<tr>\n",
       "  <th>money growth</th> <td>    0.5043</td> <td>    0.031</td> <td>   16.123</td> <td> 0.000</td> <td>    0.443</td> <td>    0.566</td>\n",
       "</tr>\n",
       "</table>\n",
       "<table class=\"simpletable\">\n",
       "<tr>\n",
       "  <th>Omnibus:</th>       <td>11.287</td> <th>  Durbin-Watson:     </th> <td>   0.010</td>\n",
       "</tr>\n",
       "<tr>\n",
       "  <th>Prob(Omnibus):</th> <td> 0.004</td> <th>  Jarque-Bera (JB):  </th> <td>  13.418</td>\n",
       "</tr>\n",
       "<tr>\n",
       "  <th>Skew:</th>          <td> 0.214</td> <th>  Prob(JB):          </th> <td> 0.00122</td>\n",
       "</tr>\n",
       "<tr>\n",
       "  <th>Kurtosis:</th>      <td> 3.534</td> <th>  Cond. No.          </th> <td>    17.0</td>\n",
       "</tr>\n",
       "</table><br/><br/>Notes:<br/>[1] Standard Errors assume that the covariance matrix of the errors is correctly specified."
      ],
      "text/plain": [
       "<class 'statsmodels.iolib.summary.Summary'>\n",
       "\"\"\"\n",
       "                            OLS Regression Results                            \n",
       "==============================================================================\n",
       "Dep. Variable:              inflation   R-squared:                       0.540\n",
       "Model:                            OLS   Adj. R-squared:                  0.539\n",
       "Method:                 Least Squares   F-statistic:                     402.2\n",
       "Date:                Tue, 21 Jun 2022   Prob (F-statistic):          2.92e-116\n",
       "Time:                        22:39:10   Log-Likelihood:                 997.05\n",
       "No. Observations:                 688   AIC:                            -1988.\n",
       "Df Residuals:                     685   BIC:                            -1975.\n",
       "Df Model:                           2                                         \n",
       "Covariance Type:            nonrobust                                         \n",
       "================================================================================\n",
       "                   coef    std err          t      P>|t|      [0.025      0.975]\n",
       "--------------------------------------------------------------------------------\n",
       "const           -0.0389      0.007     -5.791      0.000      -0.052      -0.026\n",
       "inflation        0.4079      0.028     14.555      0.000       0.353       0.463\n",
       "money growth     0.5043      0.031     16.123      0.000       0.443       0.566\n",
       "==============================================================================\n",
       "Omnibus:                       11.287   Durbin-Watson:                   0.010\n",
       "Prob(Omnibus):                  0.004   Jarque-Bera (JB):               13.418\n",
       "Skew:                           0.214   Prob(JB):                      0.00122\n",
       "Kurtosis:                       3.534   Cond. No.                         17.0\n",
       "==============================================================================\n",
       "\n",
       "Notes:\n",
       "[1] Standard Errors assume that the covariance matrix of the errors is correctly specified.\n",
       "\"\"\""
      ]
     },
     "execution_count": 9,
     "metadata": {},
     "output_type": "execute_result"
    }
   ],
   "source": [
    "results = sm.OLS(y,sm.add_constant(X)).fit()\n",
    "\n",
    "e = results.resid\n",
    "\n",
    "if len(e.shape)==1:\n",
    "    e = pd.Series(e)\n",
    "\n",
    "results.summary()"
   ]
  },
  {
   "cell_type": "code",
   "execution_count": 10,
   "id": "d7a3569d",
   "metadata": {},
   "outputs": [
    {
     "data": {
      "image/png": "[encoded data removed]",
      "text/plain": [
       "<Figure size 864x432 with 1 Axes>"
      ]
     },
     "metadata": {
      "needs_background": "light"
     },
     "output_type": "display_data"
    }
   ],
   "source": [
    "e.plot()\n",
    "plt.show()"
   ]
  }
 ],
 "metadata": {
  "hide_input": false,
  "kernelspec": {
   "display_name": "Python 3",
   "language": "python",
   "name": "python3"
  },
  "language_info": {
   "codemirror_mode": {
    "name": "ipython",
    "version": 3
   },
   "file_extension": ".py",
   "mimetype": "text/x-python",
   "name": "python",
   "nbconvert_exporter": "python",
   "pygments_lexer": "ipython3",
   "version": "3.9.7"
  }
 },
 "nbformat": 4,
 "nbformat_minor": 5
}
