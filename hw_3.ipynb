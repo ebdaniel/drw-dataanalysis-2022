{
 "cells": [
  {
   "cell_type": "markdown",
   "metadata": {},
   "source": [
    "# Home #3.3"
   ]
  },
  {
   "cell_type": "code",
   "execution_count": 1,
   "metadata": {},
   "outputs": [],
   "source": [
    "%matplotlib inline\n",
    "import warnings\n",
    "warnings.filterwarnings('ignore')\n",
    "import numpy as np\n",
    "import pandas as pd\n",
    "import matplotlib.pyplot as plt\n",
    "from sklearn.linear_model import LinearRegression, Lasso, Ridge, RidgeCV, LassoCV\n",
    "\n",
    "pd.set_option('display.max_rows', 500)"
   ]
  },
  {
   "cell_type": "code",
   "execution_count": 2,
   "metadata": {},
   "outputs": [],
   "source": [
    "# read data\n",
    "rets_mkt = pd.read_excel('data/hw_3_3_data.xlsx', sheet_name='benchmark rets')\n",
    "rets_spx = pd.read_excel('data/hw_3_3_data.xlsx', sheet_name=\"s&p500 rets\")"
   ]
  },
  {
   "cell_type": "markdown",
   "metadata": {},
   "source": [
    "## 1. Penalized Regression"
   ]
  },
  {
   "cell_type": "code",
   "execution_count": 3,
   "metadata": {},
   "outputs": [],
   "source": [
    "X = rets_spx.drop(columns='date')\n",
    "y = rets_mkt.GLD\n",
    "model_ols = LinearRegression().fit(X, y)\n",
    "results_ols = pd.DataFrame({'regressor': X.columns, 'intercept': model_ols.intercept_, 'beta': model_ols.coef_})"
   ]
  },
  {
   "cell_type": "markdown",
   "metadata": {},
   "source": [
    "a) intercept and betas"
   ]
  },
  {
   "cell_type": "code",
   "execution_count": 4,
   "metadata": {},
   "outputs": [],
   "source": [
    "# display(results_ols)"
   ]
  },
  {
   "cell_type": "markdown",
   "metadata": {},
   "source": [
    "b) R-squared"
   ]
  },
  {
   "cell_type": "code",
   "execution_count": 5,
   "metadata": {},
   "outputs": [
    {
     "data": {
      "text/plain": [
       "1.0"
      ]
     },
     "execution_count": 5,
     "metadata": {},
     "output_type": "execute_result"
    }
   ],
   "source": [
    "model_ols.score(X, y)"
   ]
  },
  {
   "cell_type": "markdown",
   "metadata": {},
   "source": [
    "c) top-10 Factors with largest betas"
   ]
  },
  {
   "cell_type": "markdown",
   "metadata": {},
   "source": [
    "d) Compute $\\beta^{j}\\sigma^{j}$ for each regressor"
   ]
  },
  {
   "cell_type": "code",
   "execution_count": 6,
   "metadata": {},
   "outputs": [],
   "source": [
    "def compute_beta_sigma(spx, results):\n",
    "    results['abs_beta'] = results.beta.abs()\n",
    "    for i, row in spx.T.iloc[1:].iterrows():\n",
    "        results.loc[results.regressor==i, 'sigma'] = row.std()\n",
    "    results['beta_sigma'] = results['beta']*results['sigma']    \n",
    "    results['abs_beta_sigma'] = results.beta_sigma.abs()\n",
    "    return results   "
   ]
  },
  {
   "cell_type": "code",
   "execution_count": 7,
   "metadata": {},
   "outputs": [
    {
     "data": {
      "text/html": [
       "<div>\n",
       "<style scoped>\n",
       "    .dataframe tbody tr th:only-of-type {\n",
       "        vertical-align: middle;\n",
       "    }\n",
       "\n",
       "    .dataframe tbody tr th {\n",
       "        vertical-align: top;\n",
       "    }\n",
       "\n",
       "    .dataframe thead th {\n",
       "        text-align: right;\n",
       "    }\n",
       "</style>\n",
       "<table border=\"1\" class=\"dataframe\">\n",
       "  <thead>\n",
       "    <tr style=\"text-align: right;\">\n",
       "      <th></th>\n",
       "      <th>regressor</th>\n",
       "      <th>beta</th>\n",
       "    </tr>\n",
       "  </thead>\n",
       "  <tbody>\n",
       "    <tr>\n",
       "      <th>291</th>\n",
       "      <td>NEM</td>\n",
       "      <td>0.159889</td>\n",
       "    </tr>\n",
       "    <tr>\n",
       "      <th>444</th>\n",
       "      <td>XOM</td>\n",
       "      <td>-0.152578</td>\n",
       "    </tr>\n",
       "    <tr>\n",
       "      <th>330</th>\n",
       "      <td>PM</td>\n",
       "      <td>0.134020</td>\n",
       "    </tr>\n",
       "    <tr>\n",
       "      <th>416</th>\n",
       "      <td>USB</td>\n",
       "      <td>0.132346</td>\n",
       "    </tr>\n",
       "    <tr>\n",
       "      <th>283</th>\n",
       "      <td>MSFT</td>\n",
       "      <td>-0.132025</td>\n",
       "    </tr>\n",
       "    <tr>\n",
       "      <th>62</th>\n",
       "      <td>BR</td>\n",
       "      <td>0.123529</td>\n",
       "    </tr>\n",
       "    <tr>\n",
       "      <th>50</th>\n",
       "      <td>BAX</td>\n",
       "      <td>0.117546</td>\n",
       "    </tr>\n",
       "    <tr>\n",
       "      <th>129</th>\n",
       "      <td>DTE</td>\n",
       "      <td>-0.116357</td>\n",
       "    </tr>\n",
       "    <tr>\n",
       "      <th>404</th>\n",
       "      <td>TXN</td>\n",
       "      <td>-0.110645</td>\n",
       "    </tr>\n",
       "    <tr>\n",
       "      <th>35</th>\n",
       "      <td>APD</td>\n",
       "      <td>-0.106897</td>\n",
       "    </tr>\n",
       "  </tbody>\n",
       "</table>\n",
       "</div>"
      ],
      "text/plain": [
       "    regressor      beta\n",
       "291       NEM  0.159889\n",
       "444       XOM -0.152578\n",
       "330        PM  0.134020\n",
       "416       USB  0.132346\n",
       "283      MSFT -0.132025\n",
       "62         BR  0.123529\n",
       "50        BAX  0.117546\n",
       "129       DTE -0.116357\n",
       "404       TXN -0.110645\n",
       "35        APD -0.106897"
      ]
     },
     "metadata": {},
     "output_type": "display_data"
    },
    {
     "data": {
      "text/html": [
       "<div>\n",
       "<style scoped>\n",
       "    .dataframe tbody tr th:only-of-type {\n",
       "        vertical-align: middle;\n",
       "    }\n",
       "\n",
       "    .dataframe tbody tr th {\n",
       "        vertical-align: top;\n",
       "    }\n",
       "\n",
       "    .dataframe thead th {\n",
       "        text-align: right;\n",
       "    }\n",
       "</style>\n",
       "<table border=\"1\" class=\"dataframe\">\n",
       "  <thead>\n",
       "    <tr style=\"text-align: right;\">\n",
       "      <th></th>\n",
       "      <th>regressor</th>\n",
       "      <th>beta</th>\n",
       "      <th>sigma</th>\n",
       "      <th>beta_sigma</th>\n",
       "    </tr>\n",
       "  </thead>\n",
       "  <tbody>\n",
       "    <tr>\n",
       "      <th>291</th>\n",
       "      <td>NEM</td>\n",
       "      <td>0.159889</td>\n",
       "      <td>0.048772</td>\n",
       "      <td>0.007798</td>\n",
       "    </tr>\n",
       "    <tr>\n",
       "      <th>408</th>\n",
       "      <td>UAL</td>\n",
       "      <td>-0.087180</td>\n",
       "      <td>0.076875</td>\n",
       "      <td>-0.006702</td>\n",
       "    </tr>\n",
       "    <tr>\n",
       "      <th>444</th>\n",
       "      <td>XOM</td>\n",
       "      <td>-0.152578</td>\n",
       "      <td>0.039123</td>\n",
       "      <td>-0.005969</td>\n",
       "    </tr>\n",
       "    <tr>\n",
       "      <th>326</th>\n",
       "      <td>PHM</td>\n",
       "      <td>0.098021</td>\n",
       "      <td>0.055768</td>\n",
       "      <td>0.005466</td>\n",
       "    </tr>\n",
       "    <tr>\n",
       "      <th>371</th>\n",
       "      <td>SPG</td>\n",
       "      <td>0.079783</td>\n",
       "      <td>0.065666</td>\n",
       "      <td>0.005239</td>\n",
       "    </tr>\n",
       "    <tr>\n",
       "      <th>95</th>\n",
       "      <td>COF</td>\n",
       "      <td>-0.091583</td>\n",
       "      <td>0.056727</td>\n",
       "      <td>-0.005195</td>\n",
       "    </tr>\n",
       "    <tr>\n",
       "      <th>416</th>\n",
       "      <td>USB</td>\n",
       "      <td>0.132346</td>\n",
       "      <td>0.039202</td>\n",
       "      <td>0.005188</td>\n",
       "    </tr>\n",
       "    <tr>\n",
       "      <th>128</th>\n",
       "      <td>DRI</td>\n",
       "      <td>0.089492</td>\n",
       "      <td>0.057503</td>\n",
       "      <td>0.005146</td>\n",
       "    </tr>\n",
       "    <tr>\n",
       "      <th>330</th>\n",
       "      <td>PM</td>\n",
       "      <td>0.134020</td>\n",
       "      <td>0.035893</td>\n",
       "      <td>0.004810</td>\n",
       "    </tr>\n",
       "    <tr>\n",
       "      <th>362</th>\n",
       "      <td>SCHW</td>\n",
       "      <td>-0.099300</td>\n",
       "      <td>0.047579</td>\n",
       "      <td>-0.004725</td>\n",
       "    </tr>\n",
       "  </tbody>\n",
       "</table>\n",
       "</div>"
      ],
      "text/plain": [
       "    regressor      beta     sigma  beta_sigma\n",
       "291       NEM  0.159889  0.048772    0.007798\n",
       "408       UAL -0.087180  0.076875   -0.006702\n",
       "444       XOM -0.152578  0.039123   -0.005969\n",
       "326       PHM  0.098021  0.055768    0.005466\n",
       "371       SPG  0.079783  0.065666    0.005239\n",
       "95        COF -0.091583  0.056727   -0.005195\n",
       "416       USB  0.132346  0.039202    0.005188\n",
       "128       DRI  0.089492  0.057503    0.005146\n",
       "330        PM  0.134020  0.035893    0.004810\n",
       "362      SCHW -0.099300  0.047579   -0.004725"
      ]
     },
     "metadata": {},
     "output_type": "display_data"
    }
   ],
   "source": [
    "results_ols = compute_beta_sigma(rets_spx, results_ols)\n",
    "display(results_ols.sort_values('abs_beta', ascending=False).head(10)[['regressor', 'beta']])\n",
    "display(results_ols.sort_values('abs_beta_sigma', ascending=False).head(10)[['regressor', 'beta', 'sigma', 'beta_sigma']])"
   ]
  },
  {
   "cell_type": "markdown",
   "metadata": {},
   "source": [
    "e) Condition number"
   ]
  },
  {
   "cell_type": "code",
   "execution_count": 8,
   "metadata": {},
   "outputs": [
    {
     "data": {
      "text/plain": [
       "212.25385331307297"
      ]
     },
     "execution_count": 8,
     "metadata": {},
     "output_type": "execute_result"
    }
   ],
   "source": [
    "condition_number = np.linalg.cond(rets_spx.drop(columns=['date']).values); condition_number"
   ]
  },
  {
   "cell_type": "markdown",
   "metadata": {},
   "source": [
    "The high condition number is indicative of presence of multicollinearity which violates OLS assumption 1."
   ]
  },
  {
   "cell_type": "markdown",
   "metadata": {},
   "source": [
    "## 2) Ridge Regression"
   ]
  },
  {
   "cell_type": "code",
   "execution_count": 9,
   "metadata": {},
   "outputs": [],
   "source": [
    "X = rets_spx.drop(columns='date')\n",
    "y = rets_mkt.GLD\n",
    "model_ridge = Ridge(alpha=0.5).fit(X, y)\n",
    "results_ridge = pd.DataFrame({'regressor': X.columns, 'intercept': model_ridge.intercept_, 'beta': model_ridge.coef_})"
   ]
  },
  {
   "cell_type": "markdown",
   "metadata": {},
   "source": [
    "a) R-squared"
   ]
  },
  {
   "cell_type": "code",
   "execution_count": 10,
   "metadata": {},
   "outputs": [
    {
     "data": {
      "text/plain": [
       "0.7622443309155418"
      ]
     },
     "execution_count": 10,
     "metadata": {},
     "output_type": "execute_result"
    }
   ],
   "source": [
    "model_ridge.score(X, y)"
   ]
  },
  {
   "cell_type": "code",
   "execution_count": 11,
   "metadata": {},
   "outputs": [
    {
     "data": {
      "text/html": [
       "<div>\n",
       "<style scoped>\n",
       "    .dataframe tbody tr th:only-of-type {\n",
       "        vertical-align: middle;\n",
       "    }\n",
       "\n",
       "    .dataframe tbody tr th {\n",
       "        vertical-align: top;\n",
       "    }\n",
       "\n",
       "    .dataframe thead th {\n",
       "        text-align: right;\n",
       "    }\n",
       "</style>\n",
       "<table border=\"1\" class=\"dataframe\">\n",
       "  <thead>\n",
       "    <tr style=\"text-align: right;\">\n",
       "      <th></th>\n",
       "      <th>regressor</th>\n",
       "      <th>beta</th>\n",
       "    </tr>\n",
       "  </thead>\n",
       "  <tbody>\n",
       "    <tr>\n",
       "      <th>291</th>\n",
       "      <td>NEM</td>\n",
       "      <td>0.105331</td>\n",
       "    </tr>\n",
       "    <tr>\n",
       "      <th>362</th>\n",
       "      <td>SCHW</td>\n",
       "      <td>-0.034809</td>\n",
       "    </tr>\n",
       "    <tr>\n",
       "      <th>160</th>\n",
       "      <td>FCX</td>\n",
       "      <td>0.030162</td>\n",
       "    </tr>\n",
       "    <tr>\n",
       "      <th>349</th>\n",
       "      <td>RHI</td>\n",
       "      <td>-0.026028</td>\n",
       "    </tr>\n",
       "    <tr>\n",
       "      <th>350</th>\n",
       "      <td>RJF</td>\n",
       "      <td>-0.024630</td>\n",
       "    </tr>\n",
       "    <tr>\n",
       "      <th>82</th>\n",
       "      <td>CHTR</td>\n",
       "      <td>0.022171</td>\n",
       "    </tr>\n",
       "    <tr>\n",
       "      <th>74</th>\n",
       "      <td>CBRE</td>\n",
       "      <td>-0.020875</td>\n",
       "    </tr>\n",
       "    <tr>\n",
       "      <th>307</th>\n",
       "      <td>O</td>\n",
       "      <td>0.020077</td>\n",
       "    </tr>\n",
       "    <tr>\n",
       "      <th>367</th>\n",
       "      <td>SLB</td>\n",
       "      <td>0.019675</td>\n",
       "    </tr>\n",
       "    <tr>\n",
       "      <th>327</th>\n",
       "      <td>PKG</td>\n",
       "      <td>-0.019215</td>\n",
       "    </tr>\n",
       "  </tbody>\n",
       "</table>\n",
       "</div>"
      ],
      "text/plain": [
       "    regressor      beta\n",
       "291       NEM  0.105331\n",
       "362      SCHW -0.034809\n",
       "160       FCX  0.030162\n",
       "349       RHI -0.026028\n",
       "350       RJF -0.024630\n",
       "82       CHTR  0.022171\n",
       "74       CBRE -0.020875\n",
       "307         O  0.020077\n",
       "367       SLB  0.019675\n",
       "327       PKG -0.019215"
      ]
     },
     "metadata": {},
     "output_type": "display_data"
    },
    {
     "data": {
      "text/html": [
       "<div>\n",
       "<style scoped>\n",
       "    .dataframe tbody tr th:only-of-type {\n",
       "        vertical-align: middle;\n",
       "    }\n",
       "\n",
       "    .dataframe tbody tr th {\n",
       "        vertical-align: top;\n",
       "    }\n",
       "\n",
       "    .dataframe thead th {\n",
       "        text-align: right;\n",
       "    }\n",
       "</style>\n",
       "<table border=\"1\" class=\"dataframe\">\n",
       "  <thead>\n",
       "    <tr style=\"text-align: right;\">\n",
       "      <th></th>\n",
       "      <th>regressor</th>\n",
       "      <th>beta</th>\n",
       "      <th>sigma</th>\n",
       "      <th>beta_sigma</th>\n",
       "    </tr>\n",
       "  </thead>\n",
       "  <tbody>\n",
       "    <tr>\n",
       "      <th>291</th>\n",
       "      <td>NEM</td>\n",
       "      <td>0.105331</td>\n",
       "      <td>0.048772</td>\n",
       "      <td>0.005137</td>\n",
       "    </tr>\n",
       "    <tr>\n",
       "      <th>160</th>\n",
       "      <td>FCX</td>\n",
       "      <td>0.030162</td>\n",
       "      <td>0.076719</td>\n",
       "      <td>0.002314</td>\n",
       "    </tr>\n",
       "    <tr>\n",
       "      <th>142</th>\n",
       "      <td>ENPH</td>\n",
       "      <td>0.016826</td>\n",
       "      <td>0.120485</td>\n",
       "      <td>0.002027</td>\n",
       "    </tr>\n",
       "    <tr>\n",
       "      <th>362</th>\n",
       "      <td>SCHW</td>\n",
       "      <td>-0.034809</td>\n",
       "      <td>0.047579</td>\n",
       "      <td>-0.001656</td>\n",
       "    </tr>\n",
       "    <tr>\n",
       "      <th>349</th>\n",
       "      <td>RHI</td>\n",
       "      <td>-0.026028</td>\n",
       "      <td>0.044159</td>\n",
       "      <td>-0.001149</td>\n",
       "    </tr>\n",
       "    <tr>\n",
       "      <th>367</th>\n",
       "      <td>SLB</td>\n",
       "      <td>0.019675</td>\n",
       "      <td>0.057190</td>\n",
       "      <td>0.001125</td>\n",
       "    </tr>\n",
       "    <tr>\n",
       "      <th>350</th>\n",
       "      <td>RJF</td>\n",
       "      <td>-0.024630</td>\n",
       "      <td>0.044070</td>\n",
       "      <td>-0.001085</td>\n",
       "    </tr>\n",
       "    <tr>\n",
       "      <th>74</th>\n",
       "      <td>CBRE</td>\n",
       "      <td>-0.020875</td>\n",
       "      <td>0.046461</td>\n",
       "      <td>-0.000970</td>\n",
       "    </tr>\n",
       "    <tr>\n",
       "      <th>411</th>\n",
       "      <td>ULTA</td>\n",
       "      <td>-0.016453</td>\n",
       "      <td>0.057896</td>\n",
       "      <td>-0.000953</td>\n",
       "    </tr>\n",
       "    <tr>\n",
       "      <th>82</th>\n",
       "      <td>CHTR</td>\n",
       "      <td>0.022171</td>\n",
       "      <td>0.040361</td>\n",
       "      <td>0.000895</td>\n",
       "    </tr>\n",
       "  </tbody>\n",
       "</table>\n",
       "</div>"
      ],
      "text/plain": [
       "    regressor      beta     sigma  beta_sigma\n",
       "291       NEM  0.105331  0.048772    0.005137\n",
       "160       FCX  0.030162  0.076719    0.002314\n",
       "142      ENPH  0.016826  0.120485    0.002027\n",
       "362      SCHW -0.034809  0.047579   -0.001656\n",
       "349       RHI -0.026028  0.044159   -0.001149\n",
       "367       SLB  0.019675  0.057190    0.001125\n",
       "350       RJF -0.024630  0.044070   -0.001085\n",
       "74       CBRE -0.020875  0.046461   -0.000970\n",
       "411      ULTA -0.016453  0.057896   -0.000953\n",
       "82       CHTR  0.022171  0.040361    0.000895"
      ]
     },
     "metadata": {},
     "output_type": "display_data"
    }
   ],
   "source": [
    "results_ridge = compute_beta_sigma(rets_spx, results_ridge)\n",
    "display(results_ridge.sort_values('abs_beta', ascending=False).head(10)[['regressor', 'beta']])\n",
    "display(results_ridge.sort_values('abs_beta_sigma', ascending=False).head(10)[['regressor', 'beta', 'sigma', 'beta_sigma']])"
   ]
  },
  {
   "cell_type": "markdown",
   "metadata": {},
   "source": [
    "## 3) LASSO"
   ]
  },
  {
   "cell_type": "code",
   "execution_count": 12,
   "metadata": {},
   "outputs": [],
   "source": [
    "model_lasso = Lasso(alpha=2e-5).fit(X, y)\n",
    "results_lasso = pd.DataFrame({'regressor': X.columns, 'intercept': model_lasso.intercept_, 'beta': model_lasso.coef_})"
   ]
  },
  {
   "cell_type": "code",
   "execution_count": 13,
   "metadata": {},
   "outputs": [],
   "source": [
    "# display(results_lasso)"
   ]
  },
  {
   "cell_type": "code",
   "execution_count": 14,
   "metadata": {},
   "outputs": [
    {
     "data": {
      "text/plain": [
       "0.7541466465557551"
      ]
     },
     "execution_count": 14,
     "metadata": {},
     "output_type": "execute_result"
    }
   ],
   "source": [
    "model_lasso.score(X, y)"
   ]
  },
  {
   "cell_type": "code",
   "execution_count": 15,
   "metadata": {},
   "outputs": [
    {
     "data": {
      "text/html": [
       "<div>\n",
       "<style scoped>\n",
       "    .dataframe tbody tr th:only-of-type {\n",
       "        vertical-align: middle;\n",
       "    }\n",
       "\n",
       "    .dataframe tbody tr th {\n",
       "        vertical-align: top;\n",
       "    }\n",
       "\n",
       "    .dataframe thead th {\n",
       "        text-align: right;\n",
       "    }\n",
       "</style>\n",
       "<table border=\"1\" class=\"dataframe\">\n",
       "  <thead>\n",
       "    <tr style=\"text-align: right;\">\n",
       "      <th></th>\n",
       "      <th>regressor</th>\n",
       "      <th>beta</th>\n",
       "    </tr>\n",
       "  </thead>\n",
       "  <tbody>\n",
       "    <tr>\n",
       "      <th>291</th>\n",
       "      <td>NEM</td>\n",
       "      <td>0.232283</td>\n",
       "    </tr>\n",
       "    <tr>\n",
       "      <th>307</th>\n",
       "      <td>O</td>\n",
       "      <td>0.056246</td>\n",
       "    </tr>\n",
       "    <tr>\n",
       "      <th>382</th>\n",
       "      <td>T</td>\n",
       "      <td>-0.055258</td>\n",
       "    </tr>\n",
       "    <tr>\n",
       "      <th>362</th>\n",
       "      <td>SCHW</td>\n",
       "      <td>-0.052780</td>\n",
       "    </tr>\n",
       "    <tr>\n",
       "      <th>350</th>\n",
       "      <td>RJF</td>\n",
       "      <td>-0.046686</td>\n",
       "    </tr>\n",
       "    <tr>\n",
       "      <th>207</th>\n",
       "      <td>IFF</td>\n",
       "      <td>-0.033776</td>\n",
       "    </tr>\n",
       "    <tr>\n",
       "      <th>237</th>\n",
       "      <td>LDOS</td>\n",
       "      <td>0.032328</td>\n",
       "    </tr>\n",
       "    <tr>\n",
       "      <th>367</th>\n",
       "      <td>SLB</td>\n",
       "      <td>0.031621</td>\n",
       "    </tr>\n",
       "    <tr>\n",
       "      <th>74</th>\n",
       "      <td>CBRE</td>\n",
       "      <td>-0.031235</td>\n",
       "    </tr>\n",
       "    <tr>\n",
       "      <th>349</th>\n",
       "      <td>RHI</td>\n",
       "      <td>-0.030106</td>\n",
       "    </tr>\n",
       "  </tbody>\n",
       "</table>\n",
       "</div>"
      ],
      "text/plain": [
       "    regressor      beta\n",
       "291       NEM  0.232283\n",
       "307         O  0.056246\n",
       "382         T -0.055258\n",
       "362      SCHW -0.052780\n",
       "350       RJF -0.046686\n",
       "207       IFF -0.033776\n",
       "237      LDOS  0.032328\n",
       "367       SLB  0.031621\n",
       "74       CBRE -0.031235\n",
       "349       RHI -0.030106"
      ]
     },
     "metadata": {},
     "output_type": "display_data"
    },
    {
     "data": {
      "text/html": [
       "<div>\n",
       "<style scoped>\n",
       "    .dataframe tbody tr th:only-of-type {\n",
       "        vertical-align: middle;\n",
       "    }\n",
       "\n",
       "    .dataframe tbody tr th {\n",
       "        vertical-align: top;\n",
       "    }\n",
       "\n",
       "    .dataframe thead th {\n",
       "        text-align: right;\n",
       "    }\n",
       "</style>\n",
       "<table border=\"1\" class=\"dataframe\">\n",
       "  <thead>\n",
       "    <tr style=\"text-align: right;\">\n",
       "      <th></th>\n",
       "      <th>regressor</th>\n",
       "      <th>beta</th>\n",
       "      <th>sigma</th>\n",
       "      <th>beta_sigma</th>\n",
       "    </tr>\n",
       "  </thead>\n",
       "  <tbody>\n",
       "    <tr>\n",
       "      <th>291</th>\n",
       "      <td>NEM</td>\n",
       "      <td>0.232283</td>\n",
       "      <td>0.048772</td>\n",
       "      <td>0.011329</td>\n",
       "    </tr>\n",
       "    <tr>\n",
       "      <th>362</th>\n",
       "      <td>SCHW</td>\n",
       "      <td>-0.052780</td>\n",
       "      <td>0.047579</td>\n",
       "      <td>-0.002511</td>\n",
       "    </tr>\n",
       "    <tr>\n",
       "      <th>307</th>\n",
       "      <td>O</td>\n",
       "      <td>0.056246</td>\n",
       "      <td>0.042242</td>\n",
       "      <td>0.002376</td>\n",
       "    </tr>\n",
       "    <tr>\n",
       "      <th>350</th>\n",
       "      <td>RJF</td>\n",
       "      <td>-0.046686</td>\n",
       "      <td>0.044070</td>\n",
       "      <td>-0.002057</td>\n",
       "    </tr>\n",
       "    <tr>\n",
       "      <th>367</th>\n",
       "      <td>SLB</td>\n",
       "      <td>0.031621</td>\n",
       "      <td>0.057190</td>\n",
       "      <td>0.001808</td>\n",
       "    </tr>\n",
       "    <tr>\n",
       "      <th>142</th>\n",
       "      <td>ENPH</td>\n",
       "      <td>0.014089</td>\n",
       "      <td>0.120485</td>\n",
       "      <td>0.001698</td>\n",
       "    </tr>\n",
       "    <tr>\n",
       "      <th>382</th>\n",
       "      <td>T</td>\n",
       "      <td>-0.055258</td>\n",
       "      <td>0.030550</td>\n",
       "      <td>-0.001688</td>\n",
       "    </tr>\n",
       "    <tr>\n",
       "      <th>74</th>\n",
       "      <td>CBRE</td>\n",
       "      <td>-0.031235</td>\n",
       "      <td>0.046461</td>\n",
       "      <td>-0.001451</td>\n",
       "    </tr>\n",
       "    <tr>\n",
       "      <th>326</th>\n",
       "      <td>PHM</td>\n",
       "      <td>0.024947</td>\n",
       "      <td>0.055768</td>\n",
       "      <td>0.001391</td>\n",
       "    </tr>\n",
       "    <tr>\n",
       "      <th>160</th>\n",
       "      <td>FCX</td>\n",
       "      <td>0.017994</td>\n",
       "      <td>0.076719</td>\n",
       "      <td>0.001381</td>\n",
       "    </tr>\n",
       "  </tbody>\n",
       "</table>\n",
       "</div>"
      ],
      "text/plain": [
       "    regressor      beta     sigma  beta_sigma\n",
       "291       NEM  0.232283  0.048772    0.011329\n",
       "362      SCHW -0.052780  0.047579   -0.002511\n",
       "307         O  0.056246  0.042242    0.002376\n",
       "350       RJF -0.046686  0.044070   -0.002057\n",
       "367       SLB  0.031621  0.057190    0.001808\n",
       "142      ENPH  0.014089  0.120485    0.001698\n",
       "382         T -0.055258  0.030550   -0.001688\n",
       "74       CBRE -0.031235  0.046461   -0.001451\n",
       "326       PHM  0.024947  0.055768    0.001391\n",
       "160       FCX  0.017994  0.076719    0.001381"
      ]
     },
     "metadata": {},
     "output_type": "display_data"
    }
   ],
   "source": [
    "results_lasso = compute_beta_sigma(rets_spx, results_lasso)\n",
    "display(results_lasso.sort_values('abs_beta', ascending=False).head(10)[['regressor', 'beta']])\n",
    "display(results_lasso.sort_values('abs_beta_sigma', ascending=False).head(10)[['regressor', 'beta', 'sigma', 'beta_sigma']])"
   ]
  },
  {
   "cell_type": "code",
   "execution_count": 16,
   "metadata": {},
   "outputs": [
    {
     "name": "stdout",
     "output_type": "stream",
     "text": [
      "Number of non-zero regressors: 75\n"
     ]
    }
   ],
   "source": [
    "non_zero_regressors = results_lasso.loc[results_lasso.beta != 0]\n",
    "print(f\"Number of non-zero regressors: {len(non_zero_regressors)}\")"
   ]
  },
  {
   "cell_type": "markdown",
   "metadata": {},
   "source": [
    "## 4. Comparaison"
   ]
  },
  {
   "cell_type": "code",
   "execution_count": 17,
   "metadata": {},
   "outputs": [
    {
     "data": {
      "image/png": "[encoded data removed]",
      "text/plain": [
       "<Figure size 1440x720 with 3 Axes>"
      ]
     },
     "metadata": {
      "needs_background": "light"
     },
     "output_type": "display_data"
    }
   ],
   "source": [
    "# histogram\n",
    "fig, axis = plt.subplots(3, 1, figsize=(20, 10))\n",
    "axis[0].hist(results_ols.beta, bins=30)\n",
    "axis[0].set_xlabel('beta')\n",
    "axis[0].set_title('OLS')\n",
    "\n",
    "axis[1].hist(results_ridge.beta, bins=30)\n",
    "axis[1].set_xlabel('beta')\n",
    "axis[1].set_title('Ridge')\n",
    "\n",
    "axis[2].hist(results_lasso.beta, bins=30)\n",
    "axis[2].set_xlabel('beta')\n",
    "axis[2].set_title('LASSO')\n",
    "\n",
    "fig.tight_layout()"
   ]
  },
  {
   "cell_type": "markdown",
   "metadata": {},
   "source": [
    "## 5. Cross Validation"
   ]
  },
  {
   "cell_type": "code",
   "execution_count": 18,
   "metadata": {},
   "outputs": [],
   "source": [
    "X_train, y_train = rets_spx.loc[rets_spx.date.dt.year < 2021].drop(columns='date'), rets_mkt.loc[rets_mkt.date.dt.year < 2021].drop(columns='date').GLD\n",
    "X_test, y_test = rets_spx.loc[rets_spx.date.dt.year >= 2021].drop(columns='date'), rets_mkt.loc[rets_mkt.date.dt.year >= 2021].drop(columns='date').GLD"
   ]
  },
  {
   "cell_type": "code",
   "execution_count": 19,
   "metadata": {},
   "outputs": [
    {
     "data": {
      "text/plain": [
       "7.887365550464517e-05"
      ]
     },
     "execution_count": 19,
     "metadata": {},
     "output_type": "execute_result"
    }
   ],
   "source": [
    "model_lasso_cv = LassoCV().fit(X_train, y_train)\n",
    "model_lasso_cv.alpha_"
   ]
  },
  {
   "cell_type": "code",
   "execution_count": 20,
   "metadata": {},
   "outputs": [
    {
     "data": {
      "text/plain": [
       "0.1"
      ]
     },
     "execution_count": 20,
     "metadata": {},
     "output_type": "execute_result"
    }
   ],
   "source": [
    "model_ridge_cv = RidgeCV().fit(X_train, y_train)\n",
    "model_ridge_cv.alpha_"
   ]
  },
  {
   "cell_type": "markdown",
   "metadata": {},
   "source": [
    "# 6. OOS predictions"
   ]
  },
  {
   "cell_type": "code",
   "execution_count": 21,
   "metadata": {},
   "outputs": [
    {
     "name": "stdout",
     "output_type": "stream",
     "text": [
      "Lasso OOS R2: 0.51\n",
      "Ridge OOS R2: 0.32\n"
     ]
    }
   ],
   "source": [
    "score_oos_lasso = model_lasso_cv.score(X_test, y_test)\n",
    "score_oos_ridge = model_ridge_cv.score(X_test, y_test)\n",
    "print(f\"Lasso OOS R2: {score_oos_lasso:.2f}\\nRidge OOS R2: {score_oos_ridge:.2f}\")"
   ]
  },
  {
   "cell_type": "code",
   "execution_count": null,
   "metadata": {},
   "outputs": [],
   "source": []
  }
 ],
 "metadata": {
  "interpreter": {
   "hash": "4af04a0c468ff35cfa212b6121c4a431ae394e3bfe0b5654a8163a5901b2a15f"
  },
  "kernelspec": {
   "display_name": "Python 3.9.12 ('misc')",
   "language": "python",
   "name": "python3"
  },
  "language_info": {
   "codemirror_mode": {
    "name": "ipython",
    "version": 3
   },
   "file_extension": ".py",
   "mimetype": "text/x-python",
   "name": "python",
   "nbconvert_exporter": "python",
   "pygments_lexer": "ipython3",
   "version": "3.9.12"
  },
  "orig_nbformat": 4
 },
 "nbformat": 4,
 "nbformat_minor": 2
}
